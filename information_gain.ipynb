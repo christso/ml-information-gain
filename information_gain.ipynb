{
 "cells": [
  {
   "cell_type": "markdown",
   "metadata": {},
   "source": [
    "# Quiz for Maximizing Information Gain\n",
    "\n",
    "For the following quiz, consider the data found in `ml-bugs.csv`, consisting of twenty-four made-up insects measured on their length and color.\n",
    "\n",
    "Which of the following splitting criteria provides the most information gain for discriminating Mobugs from Lobugs?\n",
    "* Color = Brown\n",
    "* Color = Blue\n",
    "* Color = Green\n",
    "* Length < 17\n",
    "* Length < 20\n"
   ]
  },
  {
   "cell_type": "code",
   "execution_count": 107,
   "metadata": {},
   "outputs": [],
   "source": [
    "import numpy as np\n",
    "import math\n",
    "import pandas as pd\n",
    "\n",
    "df = pd.read_csv('ml-bugs.csv')\n",
    "\n",
    "def probability(name, items):\n",
    "    result = 0\n",
    "    names = np.unique(items)\n",
    "    all_count = np.count_nonzero(items)\n",
    "    item_count = np.count_nonzero(items[items == name])\n",
    "    return item_count / all_count\n",
    "\n",
    "def entropy(items):\n",
    "    result = 0\n",
    "    names = np.unique(items)\n",
    "    all_count = np.count_nonzero(items)\n",
    " \n",
    "    for name in names:\n",
    "        p = probability(name, items)\n",
    "        result -= math.log2(p) * p\n",
    "        \n",
    "    return result\n",
    "\n",
    "def two_group_entropy(df, criteria):\n",
    "    column = df.iloc[:,0]\n",
    "    total = column.count()\n",
    "    first = column[criteria].count()\n",
    "#     print('entropy 1',  entropy(column[criteria]))\n",
    "#     print('entropy 2',  entropy(column[criteria == False]))\n",
    "    return first / total * entropy(column[criteria]) + \\\n",
    "        (total - first) / total * entropy(column[criteria == False])"
   ]
  },
  {
   "cell_type": "code",
   "execution_count": 108,
   "metadata": {},
   "outputs": [
    {
     "data": {
      "text/html": [
       "<div>\n",
       "<style scoped>\n",
       "    .dataframe tbody tr th:only-of-type {\n",
       "        vertical-align: middle;\n",
       "    }\n",
       "\n",
       "    .dataframe tbody tr th {\n",
       "        vertical-align: top;\n",
       "    }\n",
       "\n",
       "    .dataframe thead th {\n",
       "        text-align: right;\n",
       "    }\n",
       "</style>\n",
       "<table border=\"1\" class=\"dataframe\">\n",
       "  <thead>\n",
       "    <tr style=\"text-align: right;\">\n",
       "      <th></th>\n",
       "      <th>Criteria</th>\n",
       "      <th>Information Gain</th>\n",
       "    </tr>\n",
       "  </thead>\n",
       "  <tbody>\n",
       "    <tr>\n",
       "      <th>0</th>\n",
       "      <td>Color = Brown</td>\n",
       "      <td>0.061573</td>\n",
       "    </tr>\n",
       "    <tr>\n",
       "      <th>1</th>\n",
       "      <td>Color = Blue</td>\n",
       "      <td>0.000590</td>\n",
       "    </tr>\n",
       "    <tr>\n",
       "      <th>2</th>\n",
       "      <td>Color = Green</td>\n",
       "      <td>0.042776</td>\n",
       "    </tr>\n",
       "    <tr>\n",
       "      <th>3</th>\n",
       "      <td>Length &lt; 17</td>\n",
       "      <td>0.112607</td>\n",
       "    </tr>\n",
       "    <tr>\n",
       "      <th>4</th>\n",
       "      <td>Length &lt; 20</td>\n",
       "      <td>0.100733</td>\n",
       "    </tr>\n",
       "  </tbody>\n",
       "</table>\n",
       "</div>"
      ],
      "text/plain": [
       "        Criteria  Information Gain\n",
       "0  Color = Brown          0.061573\n",
       "1   Color = Blue          0.000590\n",
       "2  Color = Green          0.042776\n",
       "3    Length < 17          0.112607\n",
       "4    Length < 20          0.100733"
      ]
     },
     "execution_count": 108,
     "metadata": {},
     "output_type": "execute_result"
    }
   ],
   "source": [
    "result = [\n",
    "    ['Color = Brown', entropy(df['Species']) - two_group_entropy(df, df['Color'] == 'Brown')],\n",
    "    ['Color = Blue', entropy(df['Species']) - two_group_entropy(df, df['Color'] == 'Blue')],\n",
    "    ['Color = Green', entropy(df['Species']) - two_group_entropy(df, df['Color'] == 'Green')],\n",
    "    ['Length < 17', entropy(df['Species']) - two_group_entropy(df, df['Length (mm)'] < 17)],\n",
    "    ['Length < 20', entropy(df['Species']) - two_group_entropy(df, df['Length (mm)'] < 20)]\n",
    "]\n",
    "result = pd.DataFrame(result, columns = ['Criteria', 'Information Gain']) \n",
    "result"
   ]
  },
  {
   "cell_type": "code",
   "execution_count": 109,
   "metadata": {},
   "outputs": [
    {
     "name": "stdout",
     "output_type": "stream",
     "text": [
      "Best criteria for discriminating Mobugs from Lobugs\n"
     ]
    },
    {
     "data": {
      "text/html": [
       "<div>\n",
       "<style scoped>\n",
       "    .dataframe tbody tr th:only-of-type {\n",
       "        vertical-align: middle;\n",
       "    }\n",
       "\n",
       "    .dataframe tbody tr th {\n",
       "        vertical-align: top;\n",
       "    }\n",
       "\n",
       "    .dataframe thead th {\n",
       "        text-align: right;\n",
       "    }\n",
       "</style>\n",
       "<table border=\"1\" class=\"dataframe\">\n",
       "  <thead>\n",
       "    <tr style=\"text-align: right;\">\n",
       "      <th></th>\n",
       "      <th>Criteria</th>\n",
       "      <th>Information Gain</th>\n",
       "    </tr>\n",
       "  </thead>\n",
       "  <tbody>\n",
       "    <tr>\n",
       "      <th>3</th>\n",
       "      <td>Length &lt; 17</td>\n",
       "      <td>0.112607</td>\n",
       "    </tr>\n",
       "  </tbody>\n",
       "</table>\n",
       "</div>"
      ],
      "text/plain": [
       "      Criteria  Information Gain\n",
       "3  Length < 17          0.112607"
      ]
     },
     "execution_count": 109,
     "metadata": {},
     "output_type": "execute_result"
    }
   ],
   "source": [
    "best_gain = result.max(0)['Information Gain']\n",
    "best_criteria = result[result['Information Gain'] == best_gain]\n",
    "print('Best criteria for discriminating Mobugs from Lobugs')\n",
    "best_criteria"
   ]
  }
 ],
 "metadata": {
  "kernelspec": {
   "display_name": "Python [conda env:root] *",
   "language": "python",
   "name": "conda-root-py"
  },
  "language_info": {
   "codemirror_mode": {
    "name": "ipython",
    "version": 3
   },
   "file_extension": ".py",
   "mimetype": "text/x-python",
   "name": "python",
   "nbconvert_exporter": "python",
   "pygments_lexer": "ipython3",
   "version": "3.7.3"
  }
 },
 "nbformat": 4,
 "nbformat_minor": 2
}
